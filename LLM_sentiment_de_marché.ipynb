{
  "nbformat": 4,
  "nbformat_minor": 0,
  "metadata": {
    "colab": {
      "provenance": [],
      "toc_visible": true
    },
    "kernelspec": {
      "name": "python3",
      "display_name": "Python 3"
    },
    "language_info": {
      "name": "python"
    }
  },
  "cells": [
    {
      "cell_type": "markdown",
      "source": [
        "#Importations"
      ],
      "metadata": {
        "id": "bpg4AvWggkI9"
      }
    },
    {
      "cell_type": "code",
      "execution_count": null,
      "metadata": {
        "id": "J-YAelCEe0tm"
      },
      "outputs": [],
      "source": [
        "!pip install yfinance\n",
        "!pip install -qU langchain"
      ]
    },
    {
      "cell_type": "code",
      "source": [
        "import yfinance as yf\n",
        "from nltk.sentiment import SentimentIntensityAnalyzer\n",
        "import nltk\n",
        "import pandas as pd"
      ],
      "metadata": {
        "id": "sLq_nGLWfMmj"
      },
      "execution_count": 51,
      "outputs": []
    },
    {
      "cell_type": "markdown",
      "source": [
        "#Télécharger les ressources VADER"
      ],
      "metadata": {
        "id": "8c8TaoCejeT4"
      }
    },
    {
      "cell_type": "code",
      "source": [
        "nltk.download('vader_lexicon')"
      ],
      "metadata": {
        "id": "P0zMyNT2jTCI"
      },
      "execution_count": null,
      "outputs": []
    },
    {
      "cell_type": "markdown",
      "source": [
        "#Création de l'analyseur de sentiment"
      ],
      "metadata": {
        "id": "WOwiQYtujb06"
      }
    },
    {
      "cell_type": "code",
      "source": [
        "sia = SentimentIntensityAnalyzer()"
      ],
      "metadata": {
        "id": "lZTBft_bfPg5"
      },
      "execution_count": 17,
      "outputs": []
    },
    {
      "cell_type": "markdown",
      "source": [
        "#Récuppération des news"
      ],
      "metadata": {
        "id": "meu-_FNRgnuJ"
      }
    },
    {
      "cell_type": "code",
      "source": [
        "AAPL = yf.Ticker(\"AAPL\")\n",
        "AAPL.news"
      ],
      "metadata": {
        "id": "6rOYIaVmfVXD"
      },
      "execution_count": null,
      "outputs": []
    },
    {
      "cell_type": "markdown",
      "source": [
        "#Fonction pour analyser le sentiment financier"
      ],
      "metadata": {
        "id": "sPMu_f-plj9s"
      }
    },
    {
      "cell_type": "code",
      "source": [
        "def analyse_sentiment_financier(title):\n",
        "    score = sia.polarity_scores(title)['compound']\n",
        "    if score > 0.1:\n",
        "        return \"Hausse\"\n",
        "    elif score < -0.1:\n",
        "        return \"Baisse\"\n",
        "    else:\n",
        "        return \"Neutre\"\n",
        "\n",
        "def sentiment(title):\n",
        "    sentiment = analyse_sentiment_financier(title)\n",
        "    return (title,sentiment)\n",
        "\n",
        "def trend(news):\n",
        "    s = pd.DataFrame(columns=[\"News\", \"Sentiment\"])\n",
        "    g = 0\n",
        "    trend=\"\"\n",
        "    for i in range(len(news)):\n",
        "        title = news[i][\"title\"]\n",
        "        sentiment_analyse = analyse_sentiment_financier(title)\n",
        "        s = pd.concat([s, pd.DataFrame([[title, sentiment_analyse]], columns=s.columns)], ignore_index=True)\n",
        "        if sentiment_analyse == \"Hausse\":\n",
        "            g += 1\n",
        "        elif sentiment_analyse == \"Baisse\":\n",
        "            g -= 1\n",
        "    if g > 0:\n",
        "        trend=\"Hausse\"\n",
        "    elif g < 0:\n",
        "        trend=\"Baisse\"\n",
        "    else:\n",
        "      trend=\"Neutre\"\n",
        "    return (s, trend)\n",
        "\n"
      ],
      "metadata": {
        "id": "5uuoNUXmgjEA"
      },
      "execution_count": 63,
      "outputs": []
    },
    {
      "cell_type": "code",
      "source": [
        "print(trend(AAPL.news)[0])\n",
        "print(\"le sentiment global du marché aujourd'hui est :\" ,trend(AAPL.news)[1])"
      ],
      "metadata": {
        "id": "mbDPjcjakRwF"
      },
      "execution_count": null,
      "outputs": []
    },
    {
      "cell_type": "markdown",
      "source": [
        "# Récupération de toutes les actualités du 26/11/2023"
      ],
      "metadata": {
        "id": "IpfoTWp4-vvr"
      }
    },
    {
      "cell_type": "code",
      "source": [
        "\n",
        "news_titles = [\n",
        "    {'title': \"I Stopped Buying Apple Products and Here’s What I Learned\"},\n",
        "    {'title': \"The Apple Store closes its doors for Black Friday\"},\n",
        "    {'title': \"Apple wants to break its alliance with Goldman Sachs\"},\n",
        "    {'title': \"Swiss Central Bank Slashed AMC Stake, Sells Apple, Nvidia, and Tesla Stock\"},\n",
        "    {'title': \"We won't be able to uninvent it': Warren Buffett is 'worried' about AI technology, comparing it to the atom bomb — but he's still betting big on these 3 artificial intelligence stocks\"},\n",
        "    {'title': \"20 Most Disabled-Friendly Countries in the World\"}\n",
        "]\n",
        "\n",
        "\n",
        "print(trend(news_titles)[0])\n",
        "print(\"le sentiment global du marché aujourd'hui est :\" ,trend(news_titles)[1])"
      ],
      "metadata": {
        "id": "OHsw6lzMyjXp"
      },
      "execution_count": null,
      "outputs": []
    }
  ]
}